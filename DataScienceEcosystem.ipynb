{
 "cells": [
  {
   "cell_type": "markdown",
   "id": "292b8e3c",
   "metadata": {},
   "source": [
    "# Data Science Tools and Ecosystem"
   ]
  },
  {
   "cell_type": "markdown",
   "id": "e7c6bbab",
   "metadata": {},
   "source": [
    "In this notebook, Data Science Tools and Ecosystem are summarized.\n"
   ]
  },
  {
   "cell_type": "markdown",
   "id": "0659a806",
   "metadata": {},
   "source": [
    "**Objectives**\n",
    "* List popular languages for Data Science \n",
    "* commonly used libraries \n",
    "* Evaluating arithmentric expressions"
   ]
  },
  {
   "cell_type": "markdown",
   "id": "8bf741f2",
   "metadata": {},
   "source": [
    "Some of the popular languages that Data Scientists use are:\n",
    "1. Python\n",
    "2. SQL\n",
    "3. Julia\n",
    "4. R"
   ]
  },
  {
   "cell_type": "markdown",
   "id": "65fc620f",
   "metadata": {},
   "source": [
    "Some of the commonly used libraries used by Data Scientists include:\n",
    "1. Pandas\n",
    "2. Numpy\n",
    "3. Matlpotlib\n",
    "4. Keras\n",
    "5. ggplot2"
   ]
  },
  {
   "cell_type": "markdown",
   "id": "4ceb62ec",
   "metadata": {},
   "source": [
    "| **Data Science Tools** |\n",
    "|-----------------------|\n",
    "| Vs Code |\n",
    "| R studio |\n",
    "| Jupyter Notebook |\n"
   ]
  },
  {
   "cell_type": "markdown",
   "id": "610f0f6f",
   "metadata": {},
   "source": [
    "### Below are a few examples of evaluating arithmetic expressions in Python"
   ]
  },
  {
   "cell_type": "code",
   "execution_count": 1,
   "id": "a2937b2b",
   "metadata": {},
   "outputs": [
    {
     "data": {
      "text/plain": [
       "17"
      ]
     },
     "execution_count": 1,
     "metadata": {},
     "output_type": "execute_result"
    }
   ],
   "source": [
    "# This a simple arithmetic expression to mutiply then add integers\n",
    "(3*4)+5"
   ]
  },
  {
   "cell_type": "code",
   "execution_count": 2,
   "id": "12aa1ea4",
   "metadata": {},
   "outputs": [
    {
     "data": {
      "text/plain": [
       "3.3333333333333335"
      ]
     },
     "execution_count": 2,
     "metadata": {},
     "output_type": "execute_result"
    }
   ],
   "source": [
    "# This will convert 200 minutes to hours by diving by 60\n",
    "200/60"
   ]
  },
  {
   "cell_type": "markdown",
   "id": "cbf40565",
   "metadata": {},
   "source": [
    "## Author\n",
    "Elegbede Oluwatobi"
   ]
  },
  {
   "cell_type": "code",
   "execution_count": null,
   "id": "81600b84",
   "metadata": {},
   "outputs": [],
   "source": []
  }
 ],
 "metadata": {
  "kernelspec": {
   "display_name": "Python 3 (ipykernel)",
   "language": "python",
   "name": "python3"
  },
  "language_info": {
   "codemirror_mode": {
    "name": "ipython",
    "version": 3
   },
   "file_extension": ".py",
   "mimetype": "text/x-python",
   "name": "python",
   "nbconvert_exporter": "python",
   "pygments_lexer": "ipython3",
   "version": "3.9.7"
  }
 },
 "nbformat": 4,
 "nbformat_minor": 5
}
